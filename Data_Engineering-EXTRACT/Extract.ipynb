{
 "cells": [
  {
   "cell_type": "markdown",
   "id": "9a389aee-827b-4637-b36d-46e7b9d8d4bb",
   "metadata": {},
   "source": [
    "## EXTRACT"
   ]
  },
  {
   "cell_type": "code",
   "execution_count": 20,
   "id": "d4127439-a84f-486f-8823-2a2ca2cf369e",
   "metadata": {},
   "outputs": [],
   "source": [
    "import os\n",
    "import requests\n",
    "\n",
    "# Paths\n",
    "base_path = \"./\"\n",
    "source_url = \"https://assets.datacamp.com/production/repositories/5899/datasets/66691278303f789ca4acd3c6406baa5fc6adaf28/PPR-ALL.zip\"\n",
    "source_path =  f\"{base_path}/data/source/downloaded_at=2021-01-01/ppr-all.zip\""
   ]
  },
  {
   "cell_type": "code",
   "execution_count": 21,
   "id": "610cc775-a066-411c-b6c1-cd0de06ec696",
   "metadata": {},
   "outputs": [
    {
     "name": "stderr",
     "output_type": "stream",
     "text": [
      "C:\\Users\\benja\\AppData\\Local\\Packages\\PythonSoftwareFoundation.Python.3.9_qbz5n2kfra8p0\\LocalCache\\local-packages\\Python39\\site-packages\\urllib3\\connectionpool.py:1013: InsecureRequestWarning: Unverified HTTPS request is being made to host 'assets.datacamp.com'. Adding certificate verification is strongly advised. See: https://urllib3.readthedocs.io/en/1.26.x/advanced-usage.html#ssl-warnings\n",
      "  warnings.warn(\n"
     ]
    }
   ],
   "source": [
    "# Create a directory at the `path` passed as an argument\n",
    "def create_directory_if_not_exists(path):\n",
    "    \"\"\"\n",
    "    Create a new directory if it doesn't exists\n",
    "    \"\"\"\n",
    "    # os.path.dirname() returns up to the directory path.\n",
    "    # In this case it is: f\"{base_path}/downloaded_at=2021-01-01\"\n",
    "    # \"ppr-all.zip\" is excluded\n",
    "    os.makedirs(os.path.dirname(path), exist_ok=True)\n",
    "\n",
    "# Write the file obtained to the specified directory\n",
    "def download_snapshot():\n",
    "    \"\"\"\n",
    "    Download the new dataset from the source\n",
    "    \"\"\"\n",
    "    create_directory_if_not_exists(source_path)\n",
    "    # Open the .zip file in binary mode\n",
    "    with open(source_path, \"wb\") as source_ppr:\n",
    "        # 'verify=False' skips the verification the SSL certificate\n",
    "        response = requests.get(source_url, verify=False)\n",
    "        source_ppr.write(response.content)\n",
    "\n",
    "# Download the new dataset\n",
    "download_snapshot()"
   ]
  },
  {
   "cell_type": "code",
   "execution_count": null,
   "id": "cad0c217-3c60-4f84-8441-b0eb18e4312d",
   "metadata": {},
   "outputs": [],
   "source": []
  }
 ],
 "metadata": {
  "kernelspec": {
   "display_name": "Python 3",
   "language": "python",
   "name": "python3"
  },
  "language_info": {
   "codemirror_mode": {
    "name": "ipython",
    "version": 3
   },
   "file_extension": ".py",
   "mimetype": "text/x-python",
   "name": "python",
   "nbconvert_exporter": "python",
   "pygments_lexer": "ipython3",
   "version": "3.9.12"
  }
 },
 "nbformat": 4,
 "nbformat_minor": 5
}
