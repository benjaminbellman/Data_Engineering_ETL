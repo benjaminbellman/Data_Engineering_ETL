{
 "cells": [
  {
   "cell_type": "markdown",
   "metadata": {},
   "source": [
    "# Peer Review Assignment - Data Engineer - Extract API Data\n"
   ]
  },
  {
   "cell_type": "markdown",
   "metadata": {},
   "source": [
    "## Objectives\n",
    "\n",
    "In this part you will:\n",
    "\n",
    "*   Collect exchange rate data using an API\n",
    "*   Store the data as a CSV\n"
   ]
  },
  {
   "cell_type": "markdown",
   "metadata": {},
   "source": [
    "For this lab, we are going to be using Python and several Python libraries. Some of these libraries might be installed in your lab environment or in SN Labs. Others may need to be installed by you. The cells below will install these libraries when executed.\n"
   ]
  },
  {
   "cell_type": "markdown",
   "metadata": {},
   "source": [
    "## Imports\n",
    "\n",
    "Import any additional libraries you may need here.\n"
   ]
  },
  {
   "cell_type": "code",
   "execution_count": 1,
   "metadata": {},
   "outputs": [],
   "source": [
    "import requests\n",
    "import pandas as pd"
   ]
  },
  {
   "cell_type": "markdown",
   "metadata": {},
   "source": [
    "## Extract Data Using an API\n"
   ]
  },
  {
   "cell_type": "markdown",
   "metadata": {},
   "source": [
    "Using ExchangeRate-API we will extract currency exchange rate data. Use the below steps to get the access key and to get the data.\n",
    "\n",
    "1.  Open the url : [https://exchangeratesapi.io/](https://exchangeratesapi.io/?utm_medium=Exinfluencer&utm_source=Exinfluencer&utm_content=000026UJ&utm_term=10006555&utm_id=NA-SkillsNetwork-Channel-SkillsNetworkCoursesIBMDeveloperSkillsNetworkPY0221ENSkillsNetwork23455645-2021-01-01) and create a free account.\n",
    "2.  Once the account is created. You will get the Get the Free API key option on the top as shown below:\n",
    "\n",
    "<img src=\"https://cf-courses-data.s3.us.cloud-object-storage.appdomain.cloud/IBMDeveloperSkillsNetwork-PY0221EN-SkillsNetwork/labs/module%206/Final%20Assignment/Images/getapi.png\"/>\n",
    "\n",
    "3.  Copy the API key and use in the url in Question 1.\n"
   ]
  },
  {
   "cell_type": "markdown",
   "metadata": {},
   "source": [
    "### Call the API\n",
    "\n",
    "<b> Question 1</b> Using the `requests` library call the endpoint given above and save the text, remember the first few characters of the output:\n"
   ]
  },
  {
   "cell_type": "code",
   "execution_count": 12,
   "metadata": {},
   "outputs": [],
   "source": [
    "# Write your code here\n",
    "url = \"http://api.exchangeratesapi.io/v1/latest?base=EUR&access_key=127d2b185af84973059c5108a3ee96a9\"  \n",
    "response = requests.get(url)"
   ]
  },
  {
   "cell_type": "code",
   "execution_count": 13,
   "metadata": {},
   "outputs": [
    {
     "data": {
      "text/plain": [
       "{'AED': 4.075564,\n",
       " 'AFN': 97.642652,\n",
       " 'ALL': 124.102481,\n",
       " 'AMD': 544.232511,\n",
       " 'ANG': 2.001015,\n",
       " 'AOA': 505.428567,\n",
       " 'ARS': 121.510688,\n",
       " 'AUD': 1.504372,\n",
       " 'AWG': 1.997503,\n",
       " 'AZN': 1.886457,\n",
       " 'BAM': 1.964897,\n",
       " 'BBD': 2.241735,\n",
       " 'BDT': 95.509483,\n",
       " 'BGN': 1.956166,\n",
       " 'BHD': 0.418258,\n",
       " 'BIF': 2230.235775,\n",
       " 'BMD': 1.10957,\n",
       " 'BND': 1.504255,\n",
       " 'BOB': 7.633233,\n",
       " 'BRL': 5.592673,\n",
       " 'BSD': 1.110268,\n",
       " 'BTC': 2.7092654e-05,\n",
       " 'BTN': 84.11269,\n",
       " 'BWP': 12.828316,\n",
       " 'BYN': 3.645555,\n",
       " 'BYR': 21747.572731,\n",
       " 'BZD': 2.238018,\n",
       " 'CAD': 1.40101,\n",
       " 'CDF': 2232.99919,\n",
       " 'CHF': 1.039212,\n",
       " 'CLF': 0.032152,\n",
       " 'CLP': 887.168039,\n",
       " 'CNY': 7.042409,\n",
       " 'COP': 4238.191384,\n",
       " 'CRC': 710.195955,\n",
       " 'CUC': 1.10957,\n",
       " 'CUP': 29.403606,\n",
       " 'CVE': 110.457043,\n",
       " 'CZK': 24.7545,\n",
       " 'DJF': 197.192702,\n",
       " 'DKK': 7.444394,\n",
       " 'DOP': 60.970725,\n",
       " 'DZD': 158.002534,\n",
       " 'EGP': 17.435117,\n",
       " 'ERN': 16.643556,\n",
       " 'ETB': 56.455001,\n",
       " 'EUR': 1,\n",
       " 'FJD': 2.328655,\n",
       " 'FKP': 0.850995,\n",
       " 'GBP': 0.843292,\n",
       " 'GEL': 3.567275,\n",
       " 'GGP': 0.850995,\n",
       " 'GHS': 7.989238,\n",
       " 'GIP': 0.850995,\n",
       " 'GMD': 59.121565,\n",
       " 'GNF': 9891.816895,\n",
       " 'GTQ': 8.554823,\n",
       " 'GYD': 232.291314,\n",
       " 'HKD': 8.674524,\n",
       " 'HNL': 27.029206,\n",
       " 'HRK': 7.573371,\n",
       " 'HTG': 115.873389,\n",
       " 'HUF': 371.905759,\n",
       " 'IDR': 15890.596332,\n",
       " 'ILS': 3.589304,\n",
       " 'IMP': 0.850995,\n",
       " 'INR': 84.307184,\n",
       " 'IQD': 1619.417469,\n",
       " 'IRR': 46934.812365,\n",
       " 'ISK': 143.089902,\n",
       " 'JEP': 0.850995,\n",
       " 'JMD': 169.779321,\n",
       " 'JOD': 0.786683,\n",
       " 'JPY': 131.494586,\n",
       " 'KES': 126.934122,\n",
       " 'KGS': 115.871626,\n",
       " 'KHR': 4471.567436,\n",
       " 'KMF': 497.365017,\n",
       " 'KPW': 998.613422,\n",
       " 'KRW': 1343.678133,\n",
       " 'KWD': 0.337143,\n",
       " 'KYD': 0.925307,\n",
       " 'KZT': 564.972118,\n",
       " 'LAK': 12762.834268,\n",
       " 'LBP': 1679.889101,\n",
       " 'LKR': 293.662232,\n",
       " 'LRD': 170.320431,\n",
       " 'LSL': 16.654535,\n",
       " 'LTL': 3.276272,\n",
       " 'LVL': 0.671168,\n",
       " 'LYD': 5.165051,\n",
       " 'MAD': 10.851034,\n",
       " 'MDL': 20.406448,\n",
       " 'MGA': 4454.923368,\n",
       " 'MKD': 61.625277,\n",
       " 'MMK': 1974.196993,\n",
       " 'MNT': 3194.200033,\n",
       " 'MOP': 8.940235,\n",
       " 'MRO': 396.116312,\n",
       " 'MUR': 49.197944,\n",
       " 'MVR': 17.154041,\n",
       " 'MWK': 894.866342,\n",
       " 'MXN': 22.77204,\n",
       " 'MYR': 4.6569,\n",
       " 'MZN': 70.824112,\n",
       " 'NAD': 16.654692,\n",
       " 'NGN': 461.869559,\n",
       " 'NIO': 39.611087,\n",
       " 'NOK': 9.752232,\n",
       " 'NPR': 134.580224,\n",
       " 'NZD': 1.610885,\n",
       " 'OMR': 0.427196,\n",
       " 'PAB': 1.110369,\n",
       " 'PEN': 4.141468,\n",
       " 'PGK': 3.894682,\n",
       " 'PHP': 58.080434,\n",
       " 'PKR': 199.171371,\n",
       " 'PLN': 4.681316,\n",
       " 'PYG': 7726.366156,\n",
       " 'QAR': 4.039924,\n",
       " 'RON': 4.947355,\n",
       " 'RSD': 117.692024,\n",
       " 'RUB': 114.424392,\n",
       " 'RWF': 1132.871008,\n",
       " 'SAR': 4.163094,\n",
       " 'SBD': 8.930212,\n",
       " 'SCR': 15.992054,\n",
       " 'SDG': 495.977836,\n",
       " 'SEK': 10.447159,\n",
       " 'SGD': 1.501503,\n",
       " 'SHP': 1.528322,\n",
       " 'SLL': 13004.161192,\n",
       " 'SOS': 649.098196,\n",
       " 'SRD': 22.893201,\n",
       " 'STD': 22965.859559,\n",
       " 'SVC': 9.716229,\n",
       " 'SYP': 2787.240308,\n",
       " 'SZL': 16.65462,\n",
       " 'THB': 36.863802,\n",
       " 'TJS': 14.46106,\n",
       " 'TMT': 3.894591,\n",
       " 'TND': 3.261004,\n",
       " 'TOP': 2.520998,\n",
       " 'TRY': 16.329546,\n",
       " 'TTD': 7.53387,\n",
       " 'TWD': 31.302099,\n",
       " 'TZS': 2570.873925,\n",
       " 'UAH': 32.873187,\n",
       " 'UGX': 3977.525723,\n",
       " 'USD': 1.10957,\n",
       " 'UYU': 47.370509,\n",
       " 'UZS': 12593.620051,\n",
       " 'VEF': 237259607775.82578,\n",
       " 'VND': 25373.092828,\n",
       " 'VUV': 126.620365,\n",
       " 'WST': 2.909344,\n",
       " 'XAF': 659.003869,\n",
       " 'XAG': 0.04377,\n",
       " 'XAU': 0.000571,\n",
       " 'XCD': 2.998668,\n",
       " 'XDR': 0.803716,\n",
       " 'XOF': 662.971934,\n",
       " 'XPF': 120.893736,\n",
       " 'YER': 277.67022,\n",
       " 'ZAR': 16.555295,\n",
       " 'ZMK': 9987.464072,\n",
       " 'ZMW': 19.706836,\n",
       " 'ZWL': 357.281099}"
      ]
     },
     "execution_count": 13,
     "metadata": {},
     "output_type": "execute_result"
    }
   ],
   "source": [
    "## We get the info and the rates\n",
    "info = response.json()\n",
    "info['rates']"
   ]
  },
  {
   "cell_type": "markdown",
   "metadata": {},
   "source": [
    "### Save as DataFrame\n",
    "\n",
    "<b> Question 2</b>  Using the data gathered turn it into a `pandas` dataframe. The dataframe should have the Currency as the index and `Rate` as their columns. Make sure to drop unnecessary columns.\n"
   ]
  },
  {
   "cell_type": "code",
   "execution_count": 15,
   "metadata": {},
   "outputs": [
    {
     "data": {
      "text/html": [
       "<div>\n",
       "<style scoped>\n",
       "    .dataframe tbody tr th:only-of-type {\n",
       "        vertical-align: middle;\n",
       "    }\n",
       "\n",
       "    .dataframe tbody tr th {\n",
       "        vertical-align: top;\n",
       "    }\n",
       "\n",
       "    .dataframe thead th {\n",
       "        text-align: right;\n",
       "    }\n",
       "</style>\n",
       "<table border=\"1\" class=\"dataframe\">\n",
       "  <thead>\n",
       "    <tr style=\"text-align: right;\">\n",
       "      <th></th>\n",
       "      <th>Rate</th>\n",
       "    </tr>\n",
       "  </thead>\n",
       "  <tbody>\n",
       "    <tr>\n",
       "      <th>AED</th>\n",
       "      <td>4.075564</td>\n",
       "    </tr>\n",
       "    <tr>\n",
       "      <th>AFN</th>\n",
       "      <td>97.642652</td>\n",
       "    </tr>\n",
       "    <tr>\n",
       "      <th>ALL</th>\n",
       "      <td>124.102481</td>\n",
       "    </tr>\n",
       "    <tr>\n",
       "      <th>AMD</th>\n",
       "      <td>544.232511</td>\n",
       "    </tr>\n",
       "    <tr>\n",
       "      <th>ANG</th>\n",
       "      <td>2.001015</td>\n",
       "    </tr>\n",
       "    <tr>\n",
       "      <th>...</th>\n",
       "      <td>...</td>\n",
       "    </tr>\n",
       "    <tr>\n",
       "      <th>YER</th>\n",
       "      <td>277.670220</td>\n",
       "    </tr>\n",
       "    <tr>\n",
       "      <th>ZAR</th>\n",
       "      <td>16.555295</td>\n",
       "    </tr>\n",
       "    <tr>\n",
       "      <th>ZMK</th>\n",
       "      <td>9987.464072</td>\n",
       "    </tr>\n",
       "    <tr>\n",
       "      <th>ZMW</th>\n",
       "      <td>19.706836</td>\n",
       "    </tr>\n",
       "    <tr>\n",
       "      <th>ZWL</th>\n",
       "      <td>357.281099</td>\n",
       "    </tr>\n",
       "  </tbody>\n",
       "</table>\n",
       "<p>168 rows × 1 columns</p>\n",
       "</div>"
      ],
      "text/plain": [
       "            Rate\n",
       "AED     4.075564\n",
       "AFN    97.642652\n",
       "ALL   124.102481\n",
       "AMD   544.232511\n",
       "ANG     2.001015\n",
       "..           ...\n",
       "YER   277.670220\n",
       "ZAR    16.555295\n",
       "ZMK  9987.464072\n",
       "ZMW    19.706836\n",
       "ZWL   357.281099\n",
       "\n",
       "[168 rows x 1 columns]"
      ]
     },
     "execution_count": 15,
     "metadata": {},
     "output_type": "execute_result"
    }
   ],
   "source": [
    "# Turn the data into a dataframe\n",
    "currencies = pd.DataFrame(columns=['Rate'],index=info['rates'].keys())\n",
    "currencies['Rate'] = info['rates'].values()\n",
    "currencies"
   ]
  },
  {
   "cell_type": "markdown",
   "metadata": {},
   "source": [
    "### Load the Data\n",
    "\n",
    "Using the dataframe save it as a CSV names `exchange_rates_1.csv`.\n"
   ]
  },
  {
   "cell_type": "code",
   "execution_count": 16,
   "metadata": {},
   "outputs": [],
   "source": [
    "# Save the Dataframe\n",
    "currencies.to_csv('.\\..\\data\\exchange_rates_1.csv')"
   ]
  },
  {
   "cell_type": "markdown",
   "metadata": {},
   "source": [
    "Copyright © 2020 IBM Corporation. This notebook and its source code are released under the terms of the [MIT License](https://cognitiveclass.ai/mit-license?utm_medium=Exinfluencer&utm_source=Exinfluencer&utm_content=000026UJ&utm_term=10006555&utm_id=NA-SkillsNetwork-Channel-SkillsNetworkCoursesIBMDeveloperSkillsNetworkPY0221ENSkillsNetwork23455645-2021-01-01&cm_mmc=Email_Newsletter-\\_-Developer_Ed%2BTech-\\_-WW_WW-\\_-SkillsNetwork-Courses-IBM-DA0321EN-SkillsNetwork-21426264&cm_mmca1=000026UJ&cm_mmca2=10006555&cm_mmca3=M12345678&cvosrc=email.Newsletter.M12345678&cvo_campaign=000026UJ).\n"
   ]
  }
 ],
 "metadata": {
  "kernelspec": {
   "display_name": "Python 3",
   "language": "python",
   "name": "python3"
  },
  "language_info": {
   "codemirror_mode": {
    "name": "ipython",
    "version": 3
   },
   "file_extension": ".py",
   "mimetype": "text/x-python",
   "name": "python",
   "nbconvert_exporter": "python",
   "pygments_lexer": "ipython3",
   "version": "3.9.11"
  }
 },
 "nbformat": 4,
 "nbformat_minor": 4
}
