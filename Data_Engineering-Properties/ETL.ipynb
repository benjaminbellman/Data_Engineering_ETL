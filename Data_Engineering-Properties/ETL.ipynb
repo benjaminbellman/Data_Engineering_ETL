{
 "cells": [
  {
   "cell_type": "markdown",
   "id": "dbd37f44-436a-46f4-8013-15a95a558868",
   "metadata": {},
   "source": [
    "## ETL - DataCamp"
   ]
  },
  {
   "cell_type": "markdown",
   "id": "4d49866b-f155-459d-bfdb-25e54a79a67c",
   "metadata": {},
   "source": [
    "### Extract"
   ]
  },
  {
   "cell_type": "code",
   "execution_count": 1,
   "id": "d713fc0f-c221-453c-8822-b473f870413f",
   "metadata": {},
   "outputs": [
    {
     "name": "stdout",
     "output_type": "stream",
     "text": [
      "200\n"
     ]
    }
   ],
   "source": [
    "## Requests\n",
    "import requests\n",
    "path = 'https://assets.datacamp.com/production/repositories/5899/datasets/19d6cf619d6a771314f0eb489262a31f89c424c2/ppr-all.zip'\n",
    "response = requests.get(path)\n",
    "print(response.status_code)"
   ]
  },
  {
   "cell_type": "code",
   "execution_count": 2,
   "id": "510d195e-6ebe-4fbc-b62a-06e9b0214c6a",
   "metadata": {},
   "outputs": [
    {
     "data": {
      "text/plain": [
       "'C:\\\\Users\\\\benja\\\\1.SpringBoard\\\\Github_Repos\\\\Data_Engineering_ETL\\\\Data_Engineering-Properties'"
      ]
     },
     "execution_count": 2,
     "metadata": {},
     "output_type": "execute_result"
    }
   ],
   "source": [
    "pwd"
   ]
  },
  {
   "cell_type": "code",
   "execution_count": 3,
   "id": "64b5ad68-25e1-435e-89d4-9cce7a42baad",
   "metadata": {},
   "outputs": [],
   "source": [
    "## Get local path and save zip file to it. \n",
    "local_path = f\".\\PPR-ALL.zip\"\n",
    "with open(local_path, \"wb\") as f:\n",
    "    f.write(response.content) ## This creates PPR-ALL.zip file. "
   ]
  },
  {
   "cell_type": "code",
   "execution_count": 4,
   "id": "d17821a4-1601-4a08-aee5-7324475b1da5",
   "metadata": {},
   "outputs": [
    {
     "name": "stdout",
     "output_type": "stream",
     "text": [
      "['ppr-all.csv']\n",
      "C:\\Users\\benja\\1.SpringBoard\\Github_Repos\\Data_Engineering_ETL\\Data_Engineering-Properties\\ppr-all.csv\n"
     ]
    }
   ],
   "source": [
    "## Convert the zipfile to CSV\n",
    "from zipfile import ZipFile\n",
    "with ZipFile(local_path, \"r\") as f:\n",
    "    # Get the list of files\n",
    "    file_names = f.namelist()\n",
    "    print(file_names)\n",
    "    # Extract the CSV file\n",
    "    csv_file_path = f.extract(file_names[0]) ## This creates PPR-ALL.csv file. \n",
    "    print(csv_file_path)"
   ]
  },
  {
   "cell_type": "code",
   "execution_count": 7,
   "id": "8f267ba1-6d98-4123-b4da-9e31422963e7",
   "metadata": {},
   "outputs": [
    {
     "name": "stdout",
     "output_type": "stream",
     "text": [
      "<class 'dict'>\n",
      "{'Address': '16 BURLEIGH COURT, BURLINGTON ROAD, DUBLIN 4',\n",
      " 'County': 'Dublin',\n",
      " 'Date of Sale (dd/mm/yyyy)': '03/01/2021',\n",
      " 'Description of Property': 'Second-Hand Dwelling house /Apartment',\n",
      " 'Postal Code': 'Dublin 4',\n",
      " 'Price (€)': '€450,000.00'}\n"
     ]
    }
   ],
   "source": [
    "import csv\n",
    "from pprint import pprint\n",
    "\n",
    "path = '.\\ppr-all.csv'\n",
    "with open(path, mode=\"r\", encoding=\"windows-1252\") as csv_file:\n",
    "    # Open csv_file so that each row is a dictionary\n",
    "    reader = csv.DictReader(csv_file)\n",
    "    \n",
    "    # Print the first row\n",
    "    row = next(reader)\n",
    "    print(type(row))\n",
    "    pprint(row)"
   ]
  },
  {
   "cell_type": "code",
   "execution_count": 12,
   "id": "52165663-84f9-4567-9c04-f00f8fc67c3a",
   "metadata": {},
   "outputs": [],
   "source": [
    "## Get dictionary of the fieldnames and the value columns we want to replace\n",
    "fieldnames = {\n",
    "    \"Date of Sale (dd/mm/yyyy)\": \"date_of_sale\",\n",
    "    \"Address\": \"address\",\n",
    "    \"Postal Code\": \"postal_code\",\n",
    "    \"County\": \"county\",\n",
    "    \"Price (€)\": \"price\",\n",
    "    \"Description of Property\": \"description\",\n",
    "}\n",
    "\n",
    "with open(path, mode=\"r\", encoding=\"windows-1252\") as reader_csv_file:\n",
    "    reader = csv.DictReader(reader_csv_file)\n",
    "    # The new file is called \"PPR-2021-Dublin-new-headers.csv\"\n",
    "    # and will be saved inside the \"tmp\" folder    \n",
    "    with open(\".\\PPR-2021-Dublin-new-headers.csv\",\n",
    "                    mode=\"w\",\n",
    "                    encoding=\"windows-1252\",\n",
    "                ) as writer_csv_file:\n",
    "        writer = csv.DictWriter(writer_csv_file, fieldnames=fieldnames)\n",
    "        # Write header as first line\n",
    "        writer.writeheader()\n",
    "        for row in reader:\n",
    "\t        # Write all rows in file\n",
    "\t        writer.writerow(row)"
   ]
  },
  {
   "cell_type": "code",
   "execution_count": null,
   "id": "befcc39e-da6d-4403-90b8-d0b11819533d",
   "metadata": {},
   "outputs": [],
   "source": []
  }
 ],
 "metadata": {
  "kernelspec": {
   "display_name": "Python 3",
   "language": "python",
   "name": "python3"
  },
  "language_info": {
   "codemirror_mode": {
    "name": "ipython",
    "version": 3
   },
   "file_extension": ".py",
   "mimetype": "text/x-python",
   "name": "python",
   "nbconvert_exporter": "python",
   "pygments_lexer": "ipython3",
   "version": "3.9.12"
  }
 },
 "nbformat": 4,
 "nbformat_minor": 5
}
